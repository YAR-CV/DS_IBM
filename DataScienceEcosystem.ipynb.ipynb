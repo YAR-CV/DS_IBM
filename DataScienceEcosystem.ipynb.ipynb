{
 "cells": [
  {
   "cell_type": "markdown",
   "id": "96e32a0e-c292-493d-ac3a-58eab25de470",
   "metadata": {},
   "source": [
    "# Data Science Tools and Ecosystem"
   ]
  },
  {
   "cell_type": "markdown",
   "id": "91912eb0-0a6d-4072-9dfe-286ab50b426a",
   "metadata": {},
   "source": [
    "### In this notebook, Data Science Tools and Ecosystem are summarized."
   ]
  },
  {
   "cell_type": "markdown",
   "id": "84df3759-0bf0-4163-abff-05bd3d8dfc51",
   "metadata": {},
   "source": [
    "### Some of the popular languages that Data Scientists use are:\n",
    "1. Python\n",
    "2. Java\n",
    "3. R"
   ]
  },
  {
   "cell_type": "markdown",
   "id": "d05f2b7d-6c0b-4357-b44d-fc26c163e2c2",
   "metadata": {},
   "source": [
    "#### Some of the commonly used libraries used by Data Scientists include:\n",
    "1. **NumPy**: Provides support for large multi-dimensional arrays and matrices, along with a collection of mathematical functions to operate on these arrays.\n",
    "2. **Pandas**: Offers data structures and operations for manipulating numerical tables and time series, and is built on top of NumPy.\n",
    "3. **Matplotlib**: A plotting library that produces publication-quality figures in a variety of formats and interactive environments.\n",
    "4. **Scikit-learn**: A machine learning library that provides simple and efficient tools for data mining and data analysis.\n",
    "5. **TensorFlow**: An open-source library for dataflow and differentiable programming across a range of tasks, often used for machine learning applications such as neural networks."
   ]
  },
  {
   "cell_type": "markdown",
   "id": "5aabdeac-1898-4d58-a4e8-879be7a1c223",
   "metadata": {},
   "source": [
    "| Data Science Tools         |\n",
    "|----------------------------|\n",
    "| Jupyter Notebook           |\n",
    "| RStudio                    |\n",
    "| Apache Zeppelin            |\n"
   ]
  },
  {
   "cell_type": "markdown",
   "id": "47102ecb-5faf-417a-9fb2-2eb828511957",
   "metadata": {},
   "source": [
    "### Below are a few examples of evaluating arithmetic expressions in Python.\n"
   ]
  },
  {
   "cell_type": "code",
   "execution_count": 3,
   "id": "ba02e075-9480-40a1-9bc3-eb1b1ba53d8a",
   "metadata": {
    "tags": []
   },
   "outputs": [
    {
     "data": {
      "text/plain": [
       "17"
      ]
     },
     "execution_count": 3,
     "metadata": {},
     "output_type": "execute_result"
    }
   ],
   "source": [
    "(3*4)+5\n",
    "#This a simple arithmetic expression to mutiply then add integers"
   ]
  },
  {
   "cell_type": "code",
   "execution_count": 4,
   "id": "3df44ddb-ec9f-45c6-98b7-fa3b92108a88",
   "metadata": {
    "tags": []
   },
   "outputs": [
    {
     "data": {
      "text/plain": [
       "3.3333333333333335"
      ]
     },
     "execution_count": 4,
     "metadata": {},
     "output_type": "execute_result"
    }
   ],
   "source": [
    "# This will convert 200 minutes to hours by dividing by 60\n",
    "minutes = 200\n",
    "hours = minutes / 60\n",
    "hours"
   ]
  },
  {
   "cell_type": "markdown",
   "id": "0e5a423a-e534-4100-8745-ea1e1c6440bd",
   "metadata": {},
   "source": [
    "**Objectives:**\n",
    "\n",
    "- List popular languages for Data Science\n",
    "- Demonstrate usage of commonly used Data Science libraries\n",
    "- Provide examples of arithmetic expressions in Python\n",
    "- Convert units of time from minutes to hours\n",
    "- Introduce key Data Science tools and environments"
   ]
  },
  {
   "cell_type": "markdown",
   "id": "07bf3920-1f5b-451d-bbb3-2d9a3ee2573a",
   "metadata": {},
   "source": [
    "## Author\n",
    "Yariela Cota"
   ]
  },
  {
   "cell_type": "code",
   "execution_count": null,
   "id": "ecfd49f6-b1f2-4a7e-863d-c25f48989a82",
   "metadata": {},
   "outputs": [],
   "source": []
  }
 ],
 "metadata": {
  "kernelspec": {
   "display_name": "Python",
   "language": "python",
   "name": "conda-env-python-py"
  },
  "language_info": {
   "codemirror_mode": {
    "name": "ipython",
    "version": 3
   },
   "file_extension": ".py",
   "mimetype": "text/x-python",
   "name": "python",
   "nbconvert_exporter": "python",
   "pygments_lexer": "ipython3",
   "version": "3.7.12"
  }
 },
 "nbformat": 4,
 "nbformat_minor": 5
}
